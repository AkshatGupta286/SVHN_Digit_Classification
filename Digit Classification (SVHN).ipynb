{
 "cells": [
  {
   "cell_type": "markdown",
   "metadata": {},
   "source": [
    "## Digit Classification with SVHN Dataset using Convolutional Neural Network (CNN)"
   ]
  },
  {
   "cell_type": "code",
   "execution_count": 1,
   "metadata": {},
   "outputs": [],
   "source": [
    "import scipy.io as io\n",
    "import numpy as np\n",
    "import keras\n",
    "\n",
    "trX = io.loadmat('Datasets/svhn_train.mat')['X']\n",
    "trY = io.loadmat('Datasets/svhn_train.mat')['y']\n",
    "tsX = io.loadmat('Datasets/svhn_test.mat')['X']\n",
    "tsY = io.loadmat('Datasets/svhn_test.mat')['y']"
   ]
  },
  {
   "cell_type": "code",
   "execution_count": 2,
   "metadata": {},
   "outputs": [],
   "source": [
    "# normalizing training set\n",
    "x_train = trX / 255 \n",
    "\n",
    "# converting training labels to one hot vector encoding\n",
    "y_train = np.zeros((trY.shape[0], 10), dtype = 'uint8')\n",
    "\n",
    "for i in range(trY.shape[0]):\n",
    "    y_train[i][trY[i]] = 1\n",
    "\n",
    "# normalizing test set\n",
    "x_test = tsX / 255\n",
    "\n",
    "# converting test labels to one hot vector encoding\n",
    "y_test = np.zeros((tsY.shape[0], 10), dtype = 'uint8')\n",
    "\n",
    "for i in range(tsY.shape[0]):\n",
    "    y_test[i][tsY[i]] = 1"
   ]
  },
  {
   "cell_type": "markdown",
   "metadata": {},
   "source": [
    "### CNN Model for classification"
   ]
  },
  {
   "cell_type": "code",
   "execution_count": 3,
   "metadata": {},
   "outputs": [],
   "source": [
    "# making the cnn model\n",
    "from keras import layers\n",
    "\n",
    "# architecture of the model\n",
    "inputs = keras.Input(shape = (32, 32, 3))\n",
    "layer = layers.Conv2D(filters = 64, kernel_size = (5,5), activation = \"relu\", padding = \"same\")(inputs)\n",
    "layer = layers.MaxPooling2D(pool_size = (2,2), strides = (2,2))(layer)\n",
    "layer = layers.Conv2D(filters = 64, kernel_size = (5,5), activation = \"relu\", padding = \"same\")(layer)\n",
    "layer = layers.MaxPooling2D(pool_size = (2,2), strides = (2,2))(layer)\n",
    "layer = layers.Conv2D(filters = 128, kernel_size = (5,5), activation = \"relu\", padding = \"same\")(layer)\n",
    "layer = layers.Flatten()(layer)\n",
    "layer = layers.Dense(3072, activation = \"relu\")(layer)\n",
    "layer = layers.Dense(2048, activation = \"relu\")(layer)\n",
    "outputs = layers.Dense(10, activation = \"softmax\")(layer)\n",
    "\n",
    "model = keras.Model(inputs = inputs, outputs = outputs)\n",
    "\n",
    "# compiling model using SGD optimizer\n",
    "model.compile(optimizer = keras.optimizers.SGD(learning_rate = 0.01), loss = 'categorical_crossentropy', metrics = ['accuracy'])"
   ]
  },
  {
   "cell_type": "code",
   "execution_count": 4,
   "metadata": {},
   "outputs": [
    {
     "name": "stdout",
     "output_type": "stream",
     "text": [
      "Epoch 1/20\n",
      "458/458 [==============================] - 324s 707ms/step - loss: 2.2476 - accuracy: 0.1842 - val_loss: 2.2137 - val_accuracy: 0.1959\n",
      "Epoch 2/20\n",
      "458/458 [==============================] - 328s 717ms/step - loss: 2.2190 - accuracy: 0.1939 - val_loss: 2.1481 - val_accuracy: 0.2183\n",
      "Epoch 3/20\n",
      "458/458 [==============================] - 328s 715ms/step - loss: 2.0899 - accuracy: 0.2654 - val_loss: 1.6707 - val_accuracy: 0.4657\n",
      "Epoch 4/20\n",
      "458/458 [==============================] - 330s 720ms/step - loss: 1.5104 - accuracy: 0.5228 - val_loss: 1.1099 - val_accuracy: 0.6832\n",
      "Epoch 5/20\n",
      "458/458 [==============================] - 322s 703ms/step - loss: 0.9044 - accuracy: 0.7335 - val_loss: 0.9013 - val_accuracy: 0.7394\n",
      "Epoch 6/20\n",
      "458/458 [==============================] - 327s 715ms/step - loss: 0.6844 - accuracy: 0.8015 - val_loss: 0.6323 - val_accuracy: 0.8210\n",
      "Epoch 7/20\n",
      "458/458 [==============================] - 338s 738ms/step - loss: 0.5704 - accuracy: 0.8343 - val_loss: 0.5974 - val_accuracy: 0.8297\n",
      "Epoch 8/20\n",
      "458/458 [==============================] - 333s 727ms/step - loss: 0.5119 - accuracy: 0.8525 - val_loss: 0.5677 - val_accuracy: 0.8421\n",
      "Epoch 9/20\n",
      "458/458 [==============================] - 328s 716ms/step - loss: 0.4736 - accuracy: 0.8655 - val_loss: 0.5160 - val_accuracy: 0.8580\n",
      "Epoch 10/20\n",
      "458/458 [==============================] - 352s 769ms/step - loss: 0.4321 - accuracy: 0.8768 - val_loss: 0.4912 - val_accuracy: 0.8647\n",
      "Epoch 11/20\n",
      "458/458 [==============================] - 346s 757ms/step - loss: 0.4005 - accuracy: 0.8885 - val_loss: 0.4921 - val_accuracy: 0.8632\n",
      "Epoch 12/20\n",
      "458/458 [==============================] - 334s 730ms/step - loss: 0.3768 - accuracy: 0.8943 - val_loss: 0.4590 - val_accuracy: 0.8727\n",
      "Epoch 13/20\n",
      "458/458 [==============================] - 318s 694ms/step - loss: 0.3507 - accuracy: 0.9001 - val_loss: 0.4571 - val_accuracy: 0.8730\n",
      "Epoch 14/20\n",
      "458/458 [==============================] - 319s 696ms/step - loss: 0.3347 - accuracy: 0.9036 - val_loss: 0.4439 - val_accuracy: 0.8788\n",
      "Epoch 15/20\n",
      "458/458 [==============================] - 318s 693ms/step - loss: 0.3109 - accuracy: 0.9120 - val_loss: 0.4315 - val_accuracy: 0.8834\n",
      "Epoch 16/20\n",
      "458/458 [==============================] - 319s 696ms/step - loss: 0.2953 - accuracy: 0.9158 - val_loss: 0.4378 - val_accuracy: 0.8788\n",
      "Epoch 17/20\n",
      "458/458 [==============================] - 319s 696ms/step - loss: 0.2833 - accuracy: 0.9205 - val_loss: 0.4201 - val_accuracy: 0.8837\n",
      "Epoch 18/20\n",
      "458/458 [==============================] - 318s 694ms/step - loss: 0.2580 - accuracy: 0.9260 - val_loss: 0.4383 - val_accuracy: 0.8767\n",
      "Epoch 19/20\n",
      "458/458 [==============================] - 319s 697ms/step - loss: 0.2450 - accuracy: 0.9317 - val_loss: 0.4219 - val_accuracy: 0.8841\n",
      "Epoch 20/20\n",
      "458/458 [==============================] - 319s 696ms/step - loss: 0.2250 - accuracy: 0.9370 - val_loss: 0.4292 - val_accuracy: 0.8805\n"
     ]
    }
   ],
   "source": [
    "# training the model\n",
    "\n",
    "history = model.fit(x_train, y_train, batch_size = 160, epochs = 20, validation_data=(x_test, y_test))"
   ]
  },
  {
   "cell_type": "code",
   "execution_count": 8,
   "metadata": {},
   "outputs": [
    {
     "name": "stdout",
     "output_type": "stream",
     "text": [
      "814/814 [==============================] - 34s 42ms/step - loss: 0.4292 - accuracy: 0.8805\n",
      "\n",
      "Test Accuracy:  88.04548382759094\n"
     ]
    }
   ],
   "source": [
    "# evaluating accuracy of model on test set\n",
    "\n",
    "test_scores = model.evaluate(x_test, y_test)\n",
    "print('\\nTest Accuracy: ', test_scores[1] * 100)"
   ]
  },
  {
   "cell_type": "code",
   "execution_count": 9,
   "metadata": {},
   "outputs": [
    {
     "data": {
      "image/png": "[encoded data removed]",
      "text/plain": [
       "<Figure size 432x288 with 1 Axes>"
      ]
     },
     "metadata": {
      "needs_background": "light"
     },
     "output_type": "display_data"
    }
   ],
   "source": [
    "# plotting the training and the test curve\n",
    "\n",
    "import matplotlib.pyplot as plt\n",
    "\n",
    "# array of the number of epochs\n",
    "epochs = np.arange(1, 21, dtype=\"uint8\")\n",
    "\n",
    "# array of training loss\n",
    "loss = np.array(history.history['loss'])\n",
    "\n",
    "# array of testing/validation loss\n",
    "val_loss = np.array(history.history['val_loss'])\n",
    "\n",
    "# plotting the curves\n",
    "plt.plot(epochs, loss, color = \"blue\", label = \"Training\")\n",
    "plt.plot(epochs, val_loss, color = \"orange\", label = \"Testing\")\n",
    "plt.title('Training and Testing Curve (Batch size 20)')\n",
    "plt.xlabel(\"Epochs\")\n",
    "plt.ylabel(\"Loss\")\n",
    "plt.legend()\n",
    "plt.show()"
   ]
  },
  {
   "cell_type": "code",
   "execution_count": null,
   "metadata": {},
   "outputs": [],
   "source": []
  }
 ],
 "metadata": {
  "kernelspec": {
   "display_name": "Python 3",
   "language": "python",
   "name": "python3"
  },
  "language_info": {
   "codemirror_mode": {
    "name": "ipython",
    "version": 3
   },
   "file_extension": ".py",
   "mimetype": "text/x-python",
   "name": "python",
   "nbconvert_exporter": "python",
   "pygments_lexer": "ipython3",
   "version": "3.8.5"
  }
 },
 "nbformat": 4,
 "nbformat_minor": 4
}
